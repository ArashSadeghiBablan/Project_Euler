{
 "cells": [
  {
   "cell_type": "code",
   "execution_count": 1,
   "metadata": {},
   "outputs": [
    {
     "name": "stdout",
     "output_type": "stream",
     "text": [
      "chunk done\n",
      "chunk done\n",
      "chunk done\n",
      "chunk done\n",
      "chunk done\n",
      "chunk done\n",
      "chunk done\n",
      "chunk done\n",
      "chunk done\n"
     ]
    },
    {
     "data": {
      "text/plain": [
       "8581146"
      ]
     },
     "execution_count": 1,
     "metadata": {},
     "output_type": "execute_result"
    }
   ],
   "source": [
    "#Project Euler Problem 92\n",
    "\n",
    "def one_or_89(check):\n",
    "    while check >= 0:\n",
    "        if check == 1 or check == 89:\n",
    "            #print(check)\n",
    "            return check\n",
    "        total = 0\n",
    "        for i in str(check):\n",
    "            total += int(i)**2\n",
    "        check = total\n",
    "\n",
    "def solve(n):\n",
    "    ctr = 0\n",
    "    for i in range(1, n):\n",
    "        if i % 1000000 == 0:\n",
    "            print(\"chunk done\")\n",
    "        if one_or_89(i) == 89:\n",
    "            ctr += 1\n",
    "    return ctr\n",
    "\n",
    "solve(10000000)\n"
   ]
  }
 ],
 "metadata": {
  "kernelspec": {
   "display_name": "Python 3.9.7 ('base')",
   "language": "python",
   "name": "python3"
  },
  "language_info": {
   "codemirror_mode": {
    "name": "ipython",
    "version": 3
   },
   "file_extension": ".py",
   "mimetype": "text/x-python",
   "name": "python",
   "nbconvert_exporter": "python",
   "pygments_lexer": "ipython3",
   "version": "3.9.13"
  },
  "orig_nbformat": 4,
  "vscode": {
   "interpreter": {
    "hash": "ad2bdc8ecc057115af97d19610ffacc2b4e99fae6737bb82f5d7fb13d2f2c186"
   }
  }
 },
 "nbformat": 4,
 "nbformat_minor": 2
}
