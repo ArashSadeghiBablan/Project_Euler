{
 "cells": [
  {
   "cell_type": "code",
   "execution_count": 1,
   "metadata": {},
   "outputs": [
    {
     "data": {
      "text/plain": [
       "5777"
      ]
     },
     "execution_count": 1,
     "metadata": {},
     "output_type": "execute_result"
    }
   ],
   "source": [
    "#Project Euler Problem 46\n",
    "\n",
    "from math import sqrt\n",
    "\n",
    "def isprime(x):\n",
    "    if x == 1:\n",
    "        return False\n",
    "    if x == 2:\n",
    "        return True\n",
    "    if x % 2 == 0:\n",
    "        return False\n",
    "    for j in range (3,int(sqrt(x)+1),2):\n",
    "        if x % j == 0:\n",
    "            return False\n",
    "    return True\n",
    "\n",
    "def check(n):\n",
    "    for i in range (2,n):\n",
    "        if isprime(i):\n",
    "            if sqrt((n-i)/2) % 1 == 0:\n",
    "                return True\n",
    "    return False\n",
    "\n",
    "def solve():\n",
    "    x = 9\n",
    "    while True:\n",
    "        x += 2\n",
    "        while isprime(x):\n",
    "            x += 2\n",
    "        if check(x) == False:\n",
    "            return(x)\n",
    "\n",
    "\n",
    "solve()"
   ]
  }
 ],
 "metadata": {
  "interpreter": {
   "hash": "b3ba2566441a7c06988d0923437866b63cedc61552a5af99d1f4fb67d367b25f"
  },
  "kernelspec": {
   "display_name": "Python 3.9.7 ('base')",
   "language": "python",
   "name": "python3"
  },
  "language_info": {
   "codemirror_mode": {
    "name": "ipython",
    "version": 3
   },
   "file_extension": ".py",
   "mimetype": "text/x-python",
   "name": "python",
   "nbconvert_exporter": "python",
   "pygments_lexer": "ipython3",
   "version": "3.9.7"
  },
  "orig_nbformat": 4
 },
 "nbformat": 4,
 "nbformat_minor": 2
}
