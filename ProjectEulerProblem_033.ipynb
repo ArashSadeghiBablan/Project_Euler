{
 "cells": [
  {
   "cell_type": "code",
   "execution_count": 1,
   "metadata": {},
   "outputs": [
    {
     "name": "stdout",
     "output_type": "stream",
     "text": [
      "64 16\n",
      "65 26\n",
      "95 19\n",
      "98 49\n",
      "0.01\n"
     ]
    }
   ],
   "source": [
    "#Project Euler Problem 33\n",
    "\n",
    "# a and b are two digit numbers and a and b can't both be % by 10\n",
    "\n",
    "def LCM(x,y):\n",
    "    if x > y:\n",
    "        greater = x\n",
    "    else:\n",
    "        greater = y\n",
    "    while True:\n",
    "        if (greater % x == 0 and greater % y == 0):\n",
    "            return greater\n",
    "        greater += 1\n",
    "\n",
    "\n",
    "\n",
    "A = 1\n",
    "B = 1\n",
    "for a in range (10,100):\n",
    "    a1 = a // 10\n",
    "    a2 = a % 10\n",
    "    for b in range (10,100):\n",
    "        b1 = b // 10\n",
    "        b2 = b % 10\n",
    "        if a % 10 != 0 and b % 10 != 0 and a != b:\n",
    "            if a/b == (a1*a2)/(b1*b2):\n",
    "                if a1 == b1 or a1 == b2:\n",
    "                    A = A*a\n",
    "                    B = B*b\n",
    "                    print (a,b)\n",
    "\n",
    "print (B/LCM(A,B))"
   ]
  }
 ],
 "metadata": {
  "interpreter": {
   "hash": "b3ba2566441a7c06988d0923437866b63cedc61552a5af99d1f4fb67d367b25f"
  },
  "kernelspec": {
   "display_name": "Python 3.9.7 ('base')",
   "language": "python",
   "name": "python3"
  },
  "language_info": {
   "codemirror_mode": {
    "name": "ipython",
    "version": 3
   },
   "file_extension": ".py",
   "mimetype": "text/x-python",
   "name": "python",
   "nbconvert_exporter": "python",
   "pygments_lexer": "ipython3",
   "version": "3.9.7"
  },
  "orig_nbformat": 4
 },
 "nbformat": 4,
 "nbformat_minor": 2
}
