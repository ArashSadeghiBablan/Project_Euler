{
 "cells": [
  {
   "cell_type": "code",
   "execution_count": 5,
   "metadata": {},
   "outputs": [],
   "source": [
    "#Project Euler Problem 35 not complete\n",
    "#First we'll use our code in problem 10\n",
    "\n",
    "from math import sqrt\n",
    "from itertools import permutations\n",
    "\n",
    "def isprime(x):\n",
    "    if x == 1:\n",
    "        return False\n",
    "    for j in range (2,int(sqrt(x)+1),1):\n",
    "        if x % j == 0:\n",
    "            return False\n",
    "    return True\n",
    "\n",
    "def primes_boolian(n):\n",
    "    primes = [True for i in range(n+1)]\n",
    "    primes[0] = False\n",
    "    primes[1] = False\n",
    "    for i in range(2,n+1):\n",
    "        if primes[i]:\n",
    "            if isprime(i):\n",
    "                j = 2\n",
    "                while (i*j) <= n:\n",
    "                    primes[(i*j)] = False\n",
    "                    j += 1\n",
    "    \n",
    "    return primes\n",
    "\n",
    "def circularprimes(n):\n",
    "    cirprims = [2,3,5,7]\n",
    "    primes = primes_boolian(n)\n",
    "    for x in primes:\n",
    "        if primes[x] == True:\n",
    "\n",
    "\n"
   ]
  },
  {
   "cell_type": "code",
   "execution_count": 11,
   "metadata": {},
   "outputs": [
    {
     "data": {
      "text/plain": [
       "[('1', '2'), ('2', '1')]"
      ]
     },
     "execution_count": 11,
     "metadata": {},
     "output_type": "execute_result"
    }
   ],
   "source": [
    "list(permutations('12'))"
   ]
  },
  {
   "cell_type": "code",
   "execution_count": null,
   "metadata": {},
   "outputs": [],
   "source": []
  }
 ],
 "metadata": {
  "interpreter": {
   "hash": "b3ba2566441a7c06988d0923437866b63cedc61552a5af99d1f4fb67d367b25f"
  },
  "kernelspec": {
   "display_name": "Python 3.9.7 ('base')",
   "language": "python",
   "name": "python3"
  },
  "language_info": {
   "codemirror_mode": {
    "name": "ipython",
    "version": 3
   },
   "file_extension": ".py",
   "mimetype": "text/x-python",
   "name": "python",
   "nbconvert_exporter": "python",
   "pygments_lexer": "ipython3",
   "version": "3.9.7"
  },
  "orig_nbformat": 4
 },
 "nbformat": 4,
 "nbformat_minor": 2
}
