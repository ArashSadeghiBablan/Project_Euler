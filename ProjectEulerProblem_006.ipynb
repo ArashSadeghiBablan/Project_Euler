{
 "cells": [
  {
   "cell_type": "code",
   "execution_count": 1,
   "metadata": {},
   "outputs": [
    {
     "data": {
      "text/plain": [
       "25164150"
      ]
     },
     "execution_count": 1,
     "metadata": {},
     "output_type": "execute_result"
    }
   ],
   "source": [
    "#Project Euler Problem 6\n",
    "\n",
    "def ssq(x):\n",
    "    total = 0\n",
    "    for i in range (1,x+1):\n",
    "        total = total + i**2\n",
    "    return total\n",
    "\n",
    "def sqs(x):\n",
    "    total = 0\n",
    "    for i in range (1,x+1):\n",
    "        total = total + i\n",
    "    return total**2\n",
    "\n",
    "def ssd(x):\n",
    "    return sqs(x) - ssq(x)\n",
    "\n",
    "ssd(100)"
   ]
  }
 ],
 "metadata": {
  "interpreter": {
   "hash": "b3ba2566441a7c06988d0923437866b63cedc61552a5af99d1f4fb67d367b25f"
  },
  "kernelspec": {
   "display_name": "Python 3.9.7 ('base')",
   "language": "python",
   "name": "python3"
  },
  "language_info": {
   "codemirror_mode": {
    "name": "ipython",
    "version": 3
   },
   "file_extension": ".py",
   "mimetype": "text/x-python",
   "name": "python",
   "nbconvert_exporter": "python",
   "pygments_lexer": "ipython3",
   "version": "3.9.7"
  },
  "orig_nbformat": 4
 },
 "nbformat": 4,
 "nbformat_minor": 2
}
