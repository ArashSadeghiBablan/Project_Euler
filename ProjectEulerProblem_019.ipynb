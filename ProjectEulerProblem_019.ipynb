{
 "cells": [
  {
   "cell_type": "code",
   "execution_count": 1,
   "metadata": {},
   "outputs": [
    {
     "name": "stdout",
     "output_type": "stream",
     "text": [
      "171\n"
     ]
    }
   ],
   "source": [
    "week =  ['Monday', 'Tuesday', 'Wednesday', 'Thursday', 'Friday', 'Saturday', 'Sunday']\n",
    "months = ['January', 'February', 'March', 'April', 'May', 'June', 'July', 'August', 'September', 'October', 'November', 'December']\n",
    "days_in_month = [31,28,31,30,31,30,31,31,30,31,30,31]\n",
    "days_in_month_leap = [31,29,31,30,31,30,31,31,30,31,30,31]\n",
    "years = [i for i in range(1900,2001)]\n",
    "leaps = [False for i in range(len(years))]\n",
    "for L in years:\n",
    "    if L % 4 == 0:\n",
    "        leaps[L-years[0]] = True\n",
    "    if L % 100 == 0:\n",
    "        leaps[L-years[0]] = False\n",
    "    if L % 400 == 0:\n",
    "        leaps[L-years[0]] = True\n",
    "calender = []\n",
    "ctr = 0\n",
    "\n",
    "for year in years:\n",
    "    for i in range(1,13):\n",
    "        month = months[i-1]\n",
    "        if leaps[year-years[0]] == False:\n",
    "            for day in range (1,days_in_month[i-1]+1):\n",
    "                calender.append((year,month,day,week[ctr]))\n",
    "                ctr += 1\n",
    "                if ctr == 7:\n",
    "                    ctr = 0\n",
    "\n",
    "        elif leaps[year-years[0]] == True:\n",
    "            for day in range (1,days_in_month_leap[i-1]+1):\n",
    "                calender.append((year,month,day,week[ctr]))\n",
    "                ctr += 1\n",
    "                if ctr == 7:\n",
    "                    ctr = 0\n",
    "\n",
    "counter = 0\n",
    "for i in calender:\n",
    "    if i[2] == 1 and i[3] == 'Sunday' and i[0] > 1900:\n",
    "        counter += 1\n",
    "print (counter)\n"
   ]
  }
 ],
 "metadata": {
  "kernelspec": {
   "display_name": "Python 3.9.7 ('base')",
   "language": "python",
   "name": "python3"
  },
  "language_info": {
   "codemirror_mode": {
    "name": "ipython",
    "version": 3
   },
   "file_extension": ".py",
   "mimetype": "text/x-python",
   "name": "python",
   "nbconvert_exporter": "python",
   "pygments_lexer": "ipython3",
   "version": "3.9.7"
  },
  "orig_nbformat": 4,
  "vscode": {
   "interpreter": {
    "hash": "ad2bdc8ecc057115af97d19610ffacc2b4e99fae6737bb82f5d7fb13d2f2c186"
   }
  }
 },
 "nbformat": 4,
 "nbformat_minor": 2
}
