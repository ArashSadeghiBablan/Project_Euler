{
 "cells": [
  {
   "cell_type": "code",
   "execution_count": 1,
   "metadata": {},
   "outputs": [
    {
     "data": {
      "text/plain": [
       "134043"
      ]
     },
     "execution_count": 1,
     "metadata": {},
     "output_type": "execute_result"
    }
   ],
   "source": [
    "#Project Euler Problem 47\n",
    "\n",
    "from math import sqrt\n",
    "\n",
    "def isprime(x):\n",
    "    if x == 1:\n",
    "        return False\n",
    "    if x == 2:\n",
    "        return True\n",
    "    if x % 2 == 0:\n",
    "        return False\n",
    "    for j in range (3,int(sqrt(x)+1),2):\n",
    "        if x % j == 0:\n",
    "            return False\n",
    "    return True\n",
    "\n",
    "def primefactors(n):\n",
    "    fcs = []\n",
    "    for i in range(2,n//2 + 1):\n",
    "        if n % i == 0 and isprime(i):\n",
    "            fcs.append(i)\n",
    "    return fcs\n",
    "\n",
    "def checkstarting(StartingPoint,consecutive,PrimeFactorsNum):\n",
    "    badnum = 1\n",
    "    for i in range (StartingPoint,StartingPoint+consecutive):\n",
    "        if len(primefactors(i)) == PrimeFactorsNum:\n",
    "            badnum += 1\n",
    "        elif len(primefactors(i)) != PrimeFactorsNum:\n",
    "            return badnum \n",
    "    #Using 'True' because 1 is considered as True\n",
    "    return 'True'\n",
    "\n",
    "def solve(consecutive,primefactors):\n",
    "    check = 2\n",
    "    while (True):\n",
    "        ans = checkstarting(check,consecutive,primefactors)\n",
    "        if ans == 'True':\n",
    "            return check\n",
    "        else:\n",
    "            check += (ans)\n",
    "\n",
    "solve(4,4)"
   ]
  }
 ],
 "metadata": {
  "interpreter": {
   "hash": "b3ba2566441a7c06988d0923437866b63cedc61552a5af99d1f4fb67d367b25f"
  },
  "kernelspec": {
   "display_name": "Python 3.9.7 ('base')",
   "language": "python",
   "name": "python3"
  },
  "language_info": {
   "codemirror_mode": {
    "name": "ipython",
    "version": 3
   },
   "file_extension": ".py",
   "mimetype": "text/x-python",
   "name": "python",
   "nbconvert_exporter": "python",
   "pygments_lexer": "ipython3",
   "version": "3.9.7"
  },
  "orig_nbformat": 4
 },
 "nbformat": 4,
 "nbformat_minor": 2
}
