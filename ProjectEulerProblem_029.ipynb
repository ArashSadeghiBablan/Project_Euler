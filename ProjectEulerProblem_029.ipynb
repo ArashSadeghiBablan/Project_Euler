{
 "cells": [
  {
   "cell_type": "code",
   "execution_count": 1,
   "metadata": {},
   "outputs": [
    {
     "data": {
      "text/plain": [
       "9183"
      ]
     },
     "execution_count": 1,
     "metadata": {},
     "output_type": "execute_result"
    }
   ],
   "source": [
    "#Project Euler Problem 29\n",
    "\n",
    "def solve(aL, aU, bL, bU):\n",
    "    numbers = []\n",
    "    for a in range (aL, aU + 1):\n",
    "        for b in range (bL, bU + 1):\n",
    "            numbers.append(a**b)\n",
    "    #we don't need to sort the list but we do it as it seems the problem asks us to\n",
    "    ordered = list(set(numbers))\n",
    "    return len(ordered)\n",
    "\n",
    "solve(2,100,2,100)"
   ]
  }
 ],
 "metadata": {
  "interpreter": {
   "hash": "b3ba2566441a7c06988d0923437866b63cedc61552a5af99d1f4fb67d367b25f"
  },
  "kernelspec": {
   "display_name": "Python 3.9.7 ('base')",
   "language": "python",
   "name": "python3"
  },
  "language_info": {
   "codemirror_mode": {
    "name": "ipython",
    "version": 3
   },
   "file_extension": ".py",
   "mimetype": "text/x-python",
   "name": "python",
   "nbconvert_exporter": "python",
   "pygments_lexer": "ipython3",
   "version": "3.9.7"
  },
  "orig_nbformat": 4
 },
 "nbformat": 4,
 "nbformat_minor": 2
}
