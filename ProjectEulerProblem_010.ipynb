{
 "cells": [
  {
   "cell_type": "code",
   "execution_count": 1,
   "metadata": {},
   "outputs": [
    {
     "data": {
      "text/plain": [
       "142913828922"
      ]
     },
     "execution_count": 1,
     "metadata": {},
     "output_type": "execute_result"
    }
   ],
   "source": [
    "#Project Euler Problem 10\n",
    "#First we'll use a function that we've used in problem 3 (with a little change)\n",
    "from math import sqrt\n",
    "def isprime(x):\n",
    "    if x == 1:\n",
    "        return False\n",
    "    for j in range (2,int(sqrt(x)+1),1):\n",
    "        if x % j == 0:\n",
    "            return False\n",
    "    return True\n",
    "\n",
    "def add_primes(n):\n",
    "    primes = [True for i in range(n+1)]\n",
    "    primes[0] = False\n",
    "    primes[1] = False\n",
    "    for i in range(2,n+1):\n",
    "        if primes[i]:\n",
    "            if isprime(i):\n",
    "                j = 2\n",
    "                while (i*j) <= n:\n",
    "                    primes[(i*j)] = False\n",
    "                    j += 1\n",
    "    \n",
    "    total = 0\n",
    "    for i in range(2,n+1):\n",
    "        if primes[i]:\n",
    "            total += i\n",
    "    \n",
    "    return total\n",
    "\n",
    "\n",
    "add_primes(2000000)"
   ]
  }
 ],
 "metadata": {
  "interpreter": {
   "hash": "b3ba2566441a7c06988d0923437866b63cedc61552a5af99d1f4fb67d367b25f"
  },
  "kernelspec": {
   "display_name": "Python 3.9.7 ('base')",
   "language": "python",
   "name": "python3"
  },
  "language_info": {
   "codemirror_mode": {
    "name": "ipython",
    "version": 3
   },
   "file_extension": ".py",
   "mimetype": "text/x-python",
   "name": "python",
   "nbconvert_exporter": "python",
   "pygments_lexer": "ipython3",
   "version": "3.9.7"
  },
  "orig_nbformat": 4
 },
 "nbformat": 4,
 "nbformat_minor": 2
}
