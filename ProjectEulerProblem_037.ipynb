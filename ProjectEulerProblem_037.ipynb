{
 "cells": [
  {
   "cell_type": "code",
   "execution_count": 1,
   "metadata": {},
   "outputs": [
    {
     "name": "stdout",
     "output_type": "stream",
     "text": [
      "truncatables: [23, 37, 53, 73, 313, 317, 373, 797, 3137, 3797, 739397]\n",
      "count: 11\n",
      "Sum: 748317\n"
     ]
    }
   ],
   "source": [
    "#Project Euler Problem 37\n",
    "\n",
    "#First we'll use our code in problem 10\n",
    "\n",
    "from math import sqrt\n",
    "\n",
    "def isprime(x):\n",
    "    if x == 1:\n",
    "        return False\n",
    "    for j in range (2,int(sqrt(x)+1),1):\n",
    "        if x % j == 0:\n",
    "            return False\n",
    "    return True\n",
    "\n",
    "def primes_boolian(n):\n",
    "    primes = [True for i in range(n+1)]\n",
    "    primes[0] = False\n",
    "    primes[1] = False\n",
    "    for i in range(2,n+1):\n",
    "        if primes[i]:\n",
    "            if isprime(i):\n",
    "                j = 2\n",
    "                while (i*j) <= n:\n",
    "                    primes[(i*j)] = False\n",
    "                    j += 1\n",
    "    \n",
    "    return primes\n",
    "\n",
    "def truncatable(n):\n",
    "    digits = 0\n",
    "    test = n\n",
    "    while test != 0:\n",
    "        if isprime(test) == False:\n",
    "            return False\n",
    "        test = test // 10\n",
    "        digits += 1\n",
    "    while digits != 1:\n",
    "        digits -= 1\n",
    "        n = n % (10**digits)\n",
    "        if isprime(n) == False:\n",
    "            return False\n",
    "    return True\n",
    "\n",
    "def Truns(reach):\n",
    "    count = 0\n",
    "    trunlist = []\n",
    "    t = 3\n",
    "    while count < reach:\n",
    "        Test = 10 ** t\n",
    "        primes = primes_boolian(Test)\n",
    "        for i in range (11,Test,2):\n",
    "            if primes[i] == True:\n",
    "                if truncatable(i):\n",
    "                    if i not in trunlist:\n",
    "                        count += 1\n",
    "                        trunlist.append(i)\n",
    "        t += 1\n",
    "    print ('truncatables:', trunlist)\n",
    "    print ('count:', count)\n",
    "    return print ('Sum:', sum(trunlist))\n",
    "\n",
    "Truns(11)\n"
   ]
  }
 ],
 "metadata": {
  "interpreter": {
   "hash": "b3ba2566441a7c06988d0923437866b63cedc61552a5af99d1f4fb67d367b25f"
  },
  "kernelspec": {
   "display_name": "Python 3.9.7 ('base')",
   "language": "python",
   "name": "python3"
  },
  "language_info": {
   "codemirror_mode": {
    "name": "ipython",
    "version": 3
   },
   "file_extension": ".py",
   "mimetype": "text/x-python",
   "name": "python",
   "nbconvert_exporter": "python",
   "pygments_lexer": "ipython3",
   "version": "3.9.7"
  },
  "orig_nbformat": 4
 },
 "nbformat": 4,
 "nbformat_minor": 2
}
