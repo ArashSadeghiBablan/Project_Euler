{
 "cells": [
  {
   "cell_type": "code",
   "execution_count": 1,
   "metadata": {},
   "outputs": [
    {
     "data": {
      "text/plain": [
       "31626"
      ]
     },
     "execution_count": 1,
     "metadata": {},
     "output_type": "execute_result"
    }
   ],
   "source": [
    "#Project Euler Problem 21\n",
    "\n",
    "from math import sqrt\n",
    "\n",
    "def D(n):\n",
    "    divs = [1]\n",
    "    if n == 1:\n",
    "        return 0\n",
    "    if n % sqrt(n) == 0:\n",
    "        divs.append(sqrt(n))\n",
    "    for i in range (2,int(sqrt(n))):\n",
    "        if n % i == 0:\n",
    "            divs.append(i)\n",
    "            divs.append(n//i)\n",
    "    return sum(divs)\n",
    "\n",
    "# n = 10000\n",
    "def sums(n):\n",
    "    nums = [False for i in range (0,n)]\n",
    "    for x in range(2,n):\n",
    "        if nums[x] == False:\n",
    "            if D(x) < n and D(x) != x:\n",
    "                y = D(x)\n",
    "                if D(y) == x:\n",
    "                    nums[x] = True\n",
    "                    nums[y] = True\n",
    "    total = 0\n",
    "    for i in range (n):\n",
    "        if nums[i] == True:\n",
    "            total = total + i\n",
    "    return total\n",
    "\n",
    "sums(10000)\n"
   ]
  }
 ],
 "metadata": {
  "interpreter": {
   "hash": "b3ba2566441a7c06988d0923437866b63cedc61552a5af99d1f4fb67d367b25f"
  },
  "kernelspec": {
   "display_name": "Python 3.9.7 ('base')",
   "language": "python",
   "name": "python3"
  },
  "language_info": {
   "codemirror_mode": {
    "name": "ipython",
    "version": 3
   },
   "file_extension": ".py",
   "mimetype": "text/x-python",
   "name": "python",
   "nbconvert_exporter": "python",
   "pygments_lexer": "ipython3",
   "version": "3.9.7"
  },
  "orig_nbformat": 4
 },
 "nbformat": 4,
 "nbformat_minor": 2
}
