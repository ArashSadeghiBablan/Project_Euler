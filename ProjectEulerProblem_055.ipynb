{
 "cells": [
  {
   "cell_type": "code",
   "execution_count": 1,
   "metadata": {},
   "outputs": [
    {
     "data": {
      "text/plain": [
       "249"
      ]
     },
     "execution_count": 1,
     "metadata": {},
     "output_type": "execute_result"
    }
   ],
   "source": [
    "#Project Euler Problem 55\n",
    "\n",
    "def reverse(number):\n",
    "    return int(str(number)[::-1])\n",
    "\n",
    "def palindrom(number):\n",
    "    if number == reverse(number):\n",
    "        return True\n",
    "    return False\n",
    "\n",
    "#Please note a palindrom number is not necessarily Lychrel\n",
    "def LychrelUnder10000(number):\n",
    "    iteration = 0\n",
    "    while iteration < 50:\n",
    "        number += reverse(number)\n",
    "        if palindrom(number):\n",
    "            #print(\"iterations needed:\", iteration,\"final number is:\", number)\n",
    "            return False\n",
    "        iteration += 1\n",
    "    return True\n",
    "\n",
    "def solve55():\n",
    "    ctr = 0\n",
    "    for i in range(10000):\n",
    "        if LychrelUnder10000(i) == True:\n",
    "            ctr += 1\n",
    "    return ctr\n",
    "\n",
    "solve55()"
   ]
  }
 ],
 "metadata": {
  "kernelspec": {
   "display_name": "Python 3.9.7 ('base')",
   "language": "python",
   "name": "python3"
  },
  "language_info": {
   "codemirror_mode": {
    "name": "ipython",
    "version": 3
   },
   "file_extension": ".py",
   "mimetype": "text/x-python",
   "name": "python",
   "nbconvert_exporter": "python",
   "pygments_lexer": "ipython3",
   "version": "3.9.7"
  },
  "orig_nbformat": 4,
  "vscode": {
   "interpreter": {
    "hash": "ad2bdc8ecc057115af97d19610ffacc2b4e99fae6737bb82f5d7fb13d2f2c186"
   }
  }
 },
 "nbformat": 4,
 "nbformat_minor": 2
}
