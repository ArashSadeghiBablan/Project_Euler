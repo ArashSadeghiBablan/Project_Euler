{
 "cells": [
  {
   "cell_type": "code",
   "execution_count": 56,
   "metadata": {},
   "outputs": [
    {
     "name": "stdout",
     "output_type": "stream",
     "text": [
      "i =  2166 j =  1019 pands[i] =  7042750 pands[j] =  1560090\n"
     ]
    },
    {
     "data": {
      "text/plain": [
       "5482660"
      ]
     },
     "execution_count": 56,
     "metadata": {},
     "output_type": "execute_result"
    }
   ],
   "source": [
    "#Project Euler Problem 44\n",
    "from math import sqrt\n",
    "\n",
    "def pandigital_n(n):\n",
    "    return (0.5)*n*((3*n)-1)\n",
    "\n",
    "# X = (0.5)*n*((3*n)-1) -> n = (1 + sqrt(1 +- 24*X))/6\n",
    "\n",
    "def is_pandigital(X):\n",
    "    n = (1 + sqrt(1 + 24*X)) / 6\n",
    "    if n % int(n) == 0:\n",
    "        #print('n = ', n)\n",
    "        return n # Or n\n",
    "    else:\n",
    "        return False\n",
    "    \n",
    "# Pan(k+1) - Pan(k) = 3k+1\n",
    "# Creates a list of pandital numbers fast\n",
    "def pandigitals(n):\n",
    "    pands = [1]\n",
    "    for i in range (1,n):\n",
    "        pands.append(pands[-1] + ((3*i)+1))\n",
    "    return pands\n",
    "\n",
    "def solve_upper(N):\n",
    "    pands = pandigitals(N)\n",
    "    for i in reversed(range(len(pands))):\n",
    "        for j in reversed(range(0,i)):\n",
    "            #print(\"i = \", i, \"j = \", j)\n",
    "            x, y = pands[i], pands[j]\n",
    "            if is_pandigital(x+y) and is_pandigital(x-y):\n",
    "                (print('i = ', i, 'j = ', j, 'pands[i] = ', x, 'pands[j] = ', y))\n",
    "                return x-y\n",
    "\n",
    "                \n",
    "solve_upper(2167)"
   ]
  }
 ],
 "metadata": {
  "kernelspec": {
   "display_name": "base",
   "language": "python",
   "name": "python3"
  },
  "language_info": {
   "codemirror_mode": {
    "name": "ipython",
    "version": 3
   },
   "file_extension": ".py",
   "mimetype": "text/x-python",
   "name": "python",
   "nbconvert_exporter": "python",
   "pygments_lexer": "ipython3",
   "version": "3.9.13"
  },
  "orig_nbformat": 4,
  "vscode": {
   "interpreter": {
    "hash": "ad2bdc8ecc057115af97d19610ffacc2b4e99fae6737bb82f5d7fb13d2f2c186"
   }
  }
 },
 "nbformat": 4,
 "nbformat_minor": 2
}
