{
 "cells": [
  {
   "cell_type": "code",
   "execution_count": 1,
   "metadata": {},
   "outputs": [
    {
     "name": "stdout",
     "output_type": "stream",
     "text": [
      "145\n",
      "40585\n"
     ]
    },
    {
     "data": {
      "text/plain": [
       "40730"
      ]
     },
     "execution_count": 1,
     "metadata": {},
     "output_type": "execute_result"
    }
   ],
   "source": [
    "#Project Euler Problem 34\n",
    "\n",
    "def factorial(n):\n",
    "    mult = 1\n",
    "    while n != 0:\n",
    "        mult = mult * n\n",
    "        n -= 1\n",
    "    return mult\n",
    "\n",
    "def nines(n):\n",
    "    return 10**n - 1\n",
    "\n",
    "def digitsfac(n):\n",
    "    total = 0\n",
    "    while n != 0:\n",
    "        total += factorial(n % 10)\n",
    "        n = n // 10\n",
    "    return total\n",
    "\n",
    "def checktill():\n",
    "    n = 1\n",
    "    while digitsfac(nines(n)) > nines(n):\n",
    "        n += 1\n",
    "    return 10 ** n\n",
    "\n",
    "def solve ():\n",
    "    total = 0\n",
    "    for x in range (3,checktill()):\n",
    "        if digitsfac(x) == x:\n",
    "            print (x)\n",
    "            total += x\n",
    "    return total\n",
    "\n",
    "solve()"
   ]
  }
 ],
 "metadata": {
  "interpreter": {
   "hash": "b3ba2566441a7c06988d0923437866b63cedc61552a5af99d1f4fb67d367b25f"
  },
  "kernelspec": {
   "display_name": "Python 3.9.7 ('base')",
   "language": "python",
   "name": "python3"
  },
  "language_info": {
   "codemirror_mode": {
    "name": "ipython",
    "version": 3
   },
   "file_extension": ".py",
   "mimetype": "text/x-python",
   "name": "python",
   "nbconvert_exporter": "python",
   "pygments_lexer": "ipython3",
   "version": "3.9.7"
  },
  "orig_nbformat": 4
 },
 "nbformat": 4,
 "nbformat_minor": 2
}
