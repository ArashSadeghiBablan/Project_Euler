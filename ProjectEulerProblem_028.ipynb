{
 "cells": [
  {
   "cell_type": "code",
   "execution_count": 1,
   "metadata": {},
   "outputs": [
    {
     "data": {
      "text/plain": [
       "669171001"
      ]
     },
     "execution_count": 1,
     "metadata": {},
     "output_type": "execute_result"
    }
   ],
   "source": [
    "#Project Euler Problem 28\n",
    "\n",
    "# the sequence for this sum for a 9 by 9 grid is:\n",
    "# 1 +3+5+7+9  +13+17+21+25  +31+37+43+49 + 57+65+73+81\n",
    "\n",
    "#xbyx = 1001\n",
    "def solve(xbyx):\n",
    "    total = 1\n",
    "    ctr = 0\n",
    "    adder = 2\n",
    "    point = 1\n",
    "\n",
    "    while (ctr < xbyx//2):\n",
    "        for i in range (4):\n",
    "            point += adder\n",
    "            total += point\n",
    "        adder += 2\n",
    "        ctr += 1\n",
    "    return total\n",
    "\n",
    "solve(1001)"
   ]
  }
 ],
 "metadata": {
  "kernelspec": {
   "display_name": "Python 3.9.7 ('base')",
   "language": "python",
   "name": "python3"
  },
  "language_info": {
   "codemirror_mode": {
    "name": "ipython",
    "version": 3
   },
   "file_extension": ".py",
   "mimetype": "text/x-python",
   "name": "python",
   "nbconvert_exporter": "python",
   "pygments_lexer": "ipython3",
   "version": "3.9.7"
  },
  "orig_nbformat": 4,
  "vscode": {
   "interpreter": {
    "hash": "ad2bdc8ecc057115af97d19610ffacc2b4e99fae6737bb82f5d7fb13d2f2c186"
   }
  }
 },
 "nbformat": 4,
 "nbformat_minor": 2
}
