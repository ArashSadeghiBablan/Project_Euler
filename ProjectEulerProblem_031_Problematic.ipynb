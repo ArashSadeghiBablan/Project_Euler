{
 "cells": [
  {
   "cell_type": "code",
   "execution_count": 28,
   "metadata": {},
   "outputs": [
    {
     "name": "stdout",
     "output_type": "stream",
     "text": [
      "2\n"
     ]
    }
   ],
   "source": [
    "#Project Euler Problem 31\n",
    "\n",
    "a = 1\n",
    "b = 2\n",
    "c = 5\n",
    "d = 10\n",
    "e = 20\n",
    "f = 50\n",
    "g = 100\n",
    "h = 200\n",
    "\n",
    "rest = 200\n",
    "goal = 0\n",
    "count = 0\n",
    "for H in range (0,2):\n",
    "    rest = 200\n",
    "    rest = rest - H*h\n",
    "    if rest < 0:\n",
    "        rest = 0\n",
    "    for G in range (2+1):\n",
    "        rest = rest - G*G\n",
    "        if rest < 0:\n",
    "            rest = 0\n",
    "        for F in range ((rest//g)+1):\n",
    "            rest = rest - F*f\n",
    "            if rest < 0:\n",
    "                rest = 0\n",
    "            for E in range ((rest//f)+1):\n",
    "                rest = rest - E*e\n",
    "                if rest < 0:\n",
    "                    rest = 0\n",
    "                for D in range ((rest//e)+1):\n",
    "                    rest = rest - D*d\n",
    "                    if rest < 0:                            \n",
    "                        rest = 0\n",
    "                    for C in range ((rest//d)+1):\n",
    "                        rest = rest - C*c\n",
    "                        if rest < 0:\n",
    "                             rest = 0\n",
    "                        for B in range ((rest//c)+1):\n",
    "                            rest = rest - B*b\n",
    "                            if rest < 0:\n",
    "                                rest = 0\n",
    "                            for A in range ((rest//b)+1):\n",
    "                                rest = rest - A*a\n",
    "                                if A*a + B*b + C*c + D*d + E*e + F*f + G*g + H*h == 200:\n",
    "                                    count += 1\n",
    "print (count)                                                                \n"
   ]
  }
 ],
 "metadata": {
  "interpreter": {
   "hash": "b3ba2566441a7c06988d0923437866b63cedc61552a5af99d1f4fb67d367b25f"
  },
  "kernelspec": {
   "display_name": "Python 3.9.7 ('base')",
   "language": "python",
   "name": "python3"
  },
  "language_info": {
   "codemirror_mode": {
    "name": "ipython",
    "version": 3
   },
   "file_extension": ".py",
   "mimetype": "text/x-python",
   "name": "python",
   "nbconvert_exporter": "python",
   "pygments_lexer": "ipython3",
   "version": "3.9.7"
  },
  "orig_nbformat": 4
 },
 "nbformat": 4,
 "nbformat_minor": 2
}
