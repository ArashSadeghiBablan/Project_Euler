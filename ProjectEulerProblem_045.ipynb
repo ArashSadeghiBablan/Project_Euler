{
 "cells": [
  {
   "cell_type": "code",
   "execution_count": 1,
   "metadata": {},
   "outputs": [
    {
     "data": {
      "text/plain": [
       "1533776805"
      ]
     },
     "execution_count": 1,
     "metadata": {},
     "output_type": "execute_result"
    }
   ],
   "source": [
    "#Project Euler Problem 45\n",
    "\n",
    "\n",
    "#All Hexagonals are also Triangle\n",
    "\n",
    "def Hexagonal(n):\n",
    "    return int(n*(2*n-1))\n",
    "\n",
    "def Pentagonal(n):\n",
    "    return int(n*(3*n-1)/2)\n",
    "\n",
    "def generate(limit):\n",
    "    count = 0\n",
    "    Hexs = []\n",
    "    Pens = []\n",
    "    n = 2\n",
    "    while Hexagonal(n) < limit:\n",
    "        Hexs.append(Hexagonal(n))\n",
    "        n += 1\n",
    "    n = 2\n",
    "    while Pentagonal(n) < limit:\n",
    "        Pens.append(Pentagonal(n))\n",
    "        n += 1\n",
    "\n",
    "    for i in Hexs:\n",
    "        if i in Pens:\n",
    "            count += 1\n",
    "            if count > 1:\n",
    "                return i\n",
    "\n",
    "generate(2000000000)"
   ]
  }
 ],
 "metadata": {
  "interpreter": {
   "hash": "b3ba2566441a7c06988d0923437866b63cedc61552a5af99d1f4fb67d367b25f"
  },
  "kernelspec": {
   "display_name": "Python 3.9.7 ('base')",
   "language": "python",
   "name": "python3"
  },
  "language_info": {
   "codemirror_mode": {
    "name": "ipython",
    "version": 3
   },
   "file_extension": ".py",
   "mimetype": "text/x-python",
   "name": "python",
   "nbconvert_exporter": "python",
   "pygments_lexer": "ipython3",
   "version": "3.9.7"
  },
  "orig_nbformat": 4
 },
 "nbformat": 4,
 "nbformat_minor": 2
}
