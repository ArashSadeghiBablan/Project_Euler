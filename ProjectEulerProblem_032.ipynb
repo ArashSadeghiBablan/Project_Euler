{
 "cells": [
  {
   "cell_type": "code",
   "execution_count": 23,
   "metadata": {},
   "outputs": [
    {
     "data": {
      "text/plain": [
       "45228"
      ]
     },
     "execution_count": 23,
     "metadata": {},
     "output_type": "execute_result"
    }
   ],
   "source": [
    "\n",
    "def no_duplicates(n):\n",
    "    if len(str(n)) == len(set(str(n))):\n",
    "        return True\n",
    "    else:\n",
    "        return False\n",
    "\n",
    "def is_pandigital9(n):\n",
    "    if sorted(str(n)) == ['1', '2', '3', '4', '5', '6', '7', '8', '9']:\n",
    "        return True\n",
    "    else:\n",
    "        return False\n",
    "\n",
    "def solve():\n",
    "    candidates = []\n",
    "    for i in range(1, 10**3):\n",
    "        if no_duplicates(i):\n",
    "            for j in range(i, 10**4):\n",
    "                if no_duplicates(f\"{i}{j}\"):\n",
    "                    if is_pandigital9(f\"{i}{j}{i*j}\"):\n",
    "                        candidates.append(i*j)\n",
    "                        #print(\"i,j are:\", i, j, 'product is: ', i*j, 'f\"{i}{j}{i*j}\" is', f\"{i}{j}{i*j}\")\n",
    "    my_set = list(set(candidates))\n",
    "    return sum(my_set)\n",
    "\n",
    "solve()"
   ]
  }
 ],
 "metadata": {
  "kernelspec": {
   "display_name": "base",
   "language": "python",
   "name": "python3"
  },
  "language_info": {
   "codemirror_mode": {
    "name": "ipython",
    "version": 3
   },
   "file_extension": ".py",
   "mimetype": "text/x-python",
   "name": "python",
   "nbconvert_exporter": "python",
   "pygments_lexer": "ipython3",
   "version": "3.9.13"
  },
  "orig_nbformat": 4,
  "vscode": {
   "interpreter": {
    "hash": "ad2bdc8ecc057115af97d19610ffacc2b4e99fae6737bb82f5d7fb13d2f2c186"
   }
  }
 },
 "nbformat": 4,
 "nbformat_minor": 2
}
