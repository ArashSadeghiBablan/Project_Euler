{
 "cells": [
  {
   "cell_type": "code",
   "execution_count": 61,
   "metadata": {},
   "outputs": [
    {
     "name": "stdout",
     "output_type": "stream",
     "text": [
      "983\n"
     ]
    }
   ],
   "source": [
    "#Project Euler Problem 26\n",
    "\n",
    "def recurring_cycle_length(d):\n",
    "    \"\"\"\n",
    "    Computes the length of the recurring cycle in the decimal representation of 1/d.\n",
    "    \"\"\"\n",
    "    remainder = 1\n",
    "    remainders_seen = {}\n",
    "    i = 0\n",
    "    while remainder not in remainders_seen:\n",
    "        remainders_seen[remainder] = i\n",
    "        remainder = (remainder * 10) % d\n",
    "        i += 1\n",
    "    return i - remainders_seen[remainder]\n",
    "\n",
    "max = 0\n",
    "for i in range(2,1000):\n",
    "    if recurring_cycle_length(i) > max:\n",
    "        max = i\n",
    "print(max)\n"
   ]
  }
 ],
 "metadata": {
  "kernelspec": {
   "display_name": "base",
   "language": "python",
   "name": "python3"
  },
  "language_info": {
   "codemirror_mode": {
    "name": "ipython",
    "version": 3
   },
   "file_extension": ".py",
   "mimetype": "text/x-python",
   "name": "python",
   "nbconvert_exporter": "python",
   "pygments_lexer": "ipython3",
   "version": "3.9.13"
  },
  "orig_nbformat": 4,
  "vscode": {
   "interpreter": {
    "hash": "ad2bdc8ecc057115af97d19610ffacc2b4e99fae6737bb82f5d7fb13d2f2c186"
   }
  }
 },
 "nbformat": 4,
 "nbformat_minor": 2
}
