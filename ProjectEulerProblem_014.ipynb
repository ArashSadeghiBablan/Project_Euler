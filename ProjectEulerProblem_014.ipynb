{
 "cells": [
  {
   "cell_type": "code",
   "execution_count": 1,
   "metadata": {},
   "outputs": [
    {
     "name": "stdout",
     "output_type": "stream",
     "text": [
      "Largest terms belongs to  837799 which has  525 terms\n"
     ]
    }
   ],
   "source": [
    "def terms(n):\n",
    "    count = 1\n",
    "    while n != 1:\n",
    "        if n%2 == 0:\n",
    "            n = n / 2\n",
    "            count += 1\n",
    "        else:\n",
    "            n = (3*n)+1\n",
    "            count += 1\n",
    "    return(count)\n",
    "\n",
    "#there is no need to calculate even numbers because they will be devided by 2 and become a calculated number\n",
    "def LarUnd(n):\n",
    "    largest = 1\n",
    "    for i in range(1,n,2):\n",
    "        if terms(i) > largest:\n",
    "            largest = terms(i)\n",
    "            I = i\n",
    "    return print('Largest terms belongs to ', I, 'which has ', largest, 'terms')\n",
    "\n",
    "LarUnd(1000000)\n"
   ]
  }
 ],
 "metadata": {
  "interpreter": {
   "hash": "b3ba2566441a7c06988d0923437866b63cedc61552a5af99d1f4fb67d367b25f"
  },
  "kernelspec": {
   "display_name": "Python 3.9.7 ('base')",
   "language": "python",
   "name": "python3"
  },
  "language_info": {
   "codemirror_mode": {
    "name": "ipython",
    "version": 3
   },
   "file_extension": ".py",
   "mimetype": "text/x-python",
   "name": "python",
   "nbconvert_exporter": "python",
   "pygments_lexer": "ipython3",
   "version": "3.9.7"
  },
  "orig_nbformat": 4
 },
 "nbformat": 4,
 "nbformat_minor": 2
}
