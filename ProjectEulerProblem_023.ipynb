{
 "cells": [
  {
   "cell_type": "code",
   "execution_count": 1,
   "metadata": {},
   "outputs": [
    {
     "data": {
      "text/plain": [
       "4179871"
      ]
     },
     "execution_count": 1,
     "metadata": {},
     "output_type": "execute_result"
    }
   ],
   "source": [
    "#Project Euler Problem 23\n",
    "from math import sqrt\n",
    "\n",
    "def divs(n):\n",
    "    divs = []\n",
    "    if int(sqrt(n))**2 == n:\n",
    "        divs.append(sqrt(n))\n",
    "    for i in range(2,int(sqrt(n)+1)):\n",
    "        if n % i == 0:\n",
    "            divs.append(i)\n",
    "            divs.append(n/i)\n",
    "    return list(dict.fromkeys(divs))\n",
    "\n",
    "def sum_divs(n):\n",
    "    return sum(divs(n)) + 1\n",
    "\n",
    "def type_of(n):\n",
    "    N = sum_divs(n)\n",
    "    if n == 1:\n",
    "        return 'deficient'\n",
    "    elif N==n:\n",
    "        return 'perfect'\n",
    "    elif N>n:\n",
    "        return 'abundant'\n",
    "    else:\n",
    "        return 'deficient '\n",
    "\n",
    "def all_abundant_numbers_under(n):\n",
    "    array = []\n",
    "    for i in range(1,n+1):\n",
    "        if type_of(i) == 'abundant':\n",
    "            array.append(i)\n",
    "    return array\n",
    "\n",
    "def solve():\n",
    "    abundants = all_abundant_numbers_under(28123)\n",
    "    all_list = [i for i in range (1,28123+1)]\n",
    "    no_list = []\n",
    "    for x in abundants:\n",
    "        for y in abundants:\n",
    "            if x + y > 28123:\n",
    "                break\n",
    "            else:\n",
    "                no_list.append(x+y)\n",
    "    no_list = list(dict.fromkeys(no_list))\n",
    "    answer_list = []\n",
    "    for i in no_list:\n",
    "        all_list.remove(i)\n",
    "    return sum(all_list)\n",
    "            \n",
    "solve()\n",
    "\n"
   ]
  }
 ],
 "metadata": {
  "kernelspec": {
   "display_name": "Python 3.9.7 ('base')",
   "language": "python",
   "name": "python3"
  },
  "language_info": {
   "codemirror_mode": {
    "name": "ipython",
    "version": 3
   },
   "file_extension": ".py",
   "mimetype": "text/x-python",
   "name": "python",
   "nbconvert_exporter": "python",
   "pygments_lexer": "ipython3",
   "version": "3.9.7"
  },
  "orig_nbformat": 4,
  "vscode": {
   "interpreter": {
    "hash": "ad2bdc8ecc057115af97d19610ffacc2b4e99fae6737bb82f5d7fb13d2f2c186"
   }
  }
 },
 "nbformat": 4,
 "nbformat_minor": 2
}
