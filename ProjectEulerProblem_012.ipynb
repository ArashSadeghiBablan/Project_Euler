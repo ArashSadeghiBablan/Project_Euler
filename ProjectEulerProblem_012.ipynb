{
 "cells": [
  {
   "cell_type": "code",
   "execution_count": 1,
   "metadata": {},
   "outputs": [
    {
     "data": {
      "text/plain": [
       "76576500"
      ]
     },
     "execution_count": 1,
     "metadata": {},
     "output_type": "execute_result"
    }
   ],
   "source": [
    "#Project Euler Problem 12\n",
    "from math import sqrt\n",
    "\n",
    "def triangle(n):\n",
    "    total = n\n",
    "    for i in range (1,n):\n",
    "        total = total + i\n",
    "    return total\n",
    "\n",
    "def dev(n):\n",
    "    count = 2\n",
    "    for i in range(2,int(sqrt(n))+1):\n",
    "        if n % i == 0:\n",
    "            if n // i == i:\n",
    "                count += 1\n",
    "            else:\n",
    "                count += 2\n",
    "    return count\n",
    "\n",
    "def prob(n):\n",
    "    count = 1\n",
    "    x = 1\n",
    "    while True:\n",
    "        if dev(triangle(x)) >= n:\n",
    "            return triangle(x)\n",
    "        x += 1\n",
    "\n",
    "prob(500)"
   ]
  }
 ],
 "metadata": {
  "interpreter": {
   "hash": "b3ba2566441a7c06988d0923437866b63cedc61552a5af99d1f4fb67d367b25f"
  },
  "kernelspec": {
   "display_name": "Python 3.9.7 ('base')",
   "language": "python",
   "name": "python3"
  },
  "language_info": {
   "codemirror_mode": {
    "name": "ipython",
    "version": 3
   },
   "file_extension": ".py",
   "mimetype": "text/x-python",
   "name": "python",
   "nbconvert_exporter": "python",
   "pygments_lexer": "ipython3",
   "version": "3.9.7"
  },
  "orig_nbformat": 4
 },
 "nbformat": 4,
 "nbformat_minor": 2
}
