{
 "cells": [
  {
   "cell_type": "code",
   "execution_count": 1,
   "metadata": {},
   "outputs": [
    {
     "data": {
      "text/plain": [
       "210"
      ]
     },
     "execution_count": 1,
     "metadata": {},
     "output_type": "execute_result"
    }
   ],
   "source": [
    "#Project Euler Problem 40\n",
    "\n",
    "def generate(n):\n",
    "    d = '0'\n",
    "    for i in range(1,n):\n",
    "        d = d + str(i)\n",
    "    return d\n",
    "\n",
    "# d1 × d10 × d100 × d1000 × d10000 × d100000 × d1000000\n",
    "# n = 6\n",
    "def calculate(n):\n",
    "    d = generate(10**n)\n",
    "    mult = 1\n",
    "    for i in range(n+1):\n",
    "        mult = mult * int(d[10**i])\n",
    "    return mult\n",
    "\n",
    "calculate (6)"
   ]
  }
 ],
 "metadata": {
  "interpreter": {
   "hash": "b3ba2566441a7c06988d0923437866b63cedc61552a5af99d1f4fb67d367b25f"
  },
  "kernelspec": {
   "display_name": "Python 3.9.7 ('base')",
   "language": "python",
   "name": "python3"
  },
  "language_info": {
   "codemirror_mode": {
    "name": "ipython",
    "version": 3
   },
   "file_extension": ".py",
   "mimetype": "text/x-python",
   "name": "python",
   "nbconvert_exporter": "python",
   "pygments_lexer": "ipython3",
   "version": "3.9.7"
  },
  "orig_nbformat": 4
 },
 "nbformat": 4,
 "nbformat_minor": 2
}
