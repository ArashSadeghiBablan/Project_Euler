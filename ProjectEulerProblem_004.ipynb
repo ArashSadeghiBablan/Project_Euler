{
 "cells": [
  {
   "cell_type": "code",
   "execution_count": 1,
   "metadata": {},
   "outputs": [
    {
     "name": "stdout",
     "output_type": "stream",
     "text": [
      "the numbers are:  993 913 and their product is:  906609\n"
     ]
    }
   ],
   "source": [
    "#Project Euler Problem 4\n",
    "def palin(n):\n",
    "    string = str(n)\n",
    "    L = len(string)\n",
    "    for i in range(0,L):\n",
    "        if int(string[i]) != int(string[-(i+1)]):\n",
    "            return False\n",
    "    return True\n",
    "\n",
    "def digit(z):\n",
    "    x = 10 ** z\n",
    "    y = 10 ** z\n",
    "    largest = 0\n",
    "    while x > 1:\n",
    "        x = x - 1\n",
    "        y = 10 ** z\n",
    "        while y > 1:\n",
    "            y = y - 1\n",
    "            if palin(x*y):\n",
    "                test = x*y\n",
    "                if test > largest:\n",
    "                    largest = test\n",
    "                    X,Y = x,y\n",
    "    print('the numbers are: ', X , Y , 'and their product is: ', largest)\n",
    "\n",
    "digit(3)"
   ]
  }
 ],
 "metadata": {
  "interpreter": {
   "hash": "b3ba2566441a7c06988d0923437866b63cedc61552a5af99d1f4fb67d367b25f"
  },
  "kernelspec": {
   "display_name": "Python 3.9.7 ('base')",
   "language": "python",
   "name": "python3"
  },
  "language_info": {
   "codemirror_mode": {
    "name": "ipython",
    "version": 3
   },
   "file_extension": ".py",
   "mimetype": "text/x-python",
   "name": "python",
   "nbconvert_exporter": "python",
   "pygments_lexer": "ipython3",
   "version": "3.9.7"
  },
  "orig_nbformat": 4
 },
 "nbformat": 4,
 "nbformat_minor": 2
}
