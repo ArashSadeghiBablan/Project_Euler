{
 "cells": [
  {
   "cell_type": "code",
   "execution_count": 1,
   "metadata": {},
   "outputs": [
    {
     "data": {
      "text/plain": [
       "872187"
      ]
     },
     "execution_count": 1,
     "metadata": {},
     "output_type": "execute_result"
    }
   ],
   "source": [
    "#Project EUler Problem 36\n",
    "\n",
    "def binary(n):\n",
    "    return int(bin(n)[2:])\n",
    "\n",
    "#Code from Problem 4\n",
    "def palin(n):\n",
    "    string = str(n)\n",
    "    for i in range(0,len(string)):\n",
    "        if int(string[i]) != int(string[-(i+1)]):\n",
    "            return False\n",
    "    return True\n",
    "\n",
    "def palinsum(n):\n",
    "    total = 0\n",
    "    for i in range (n):\n",
    "        if palin(i) and palin(binary(i)):\n",
    "            total += i\n",
    "    return total\n",
    "\n",
    "palinsum(1000000)"
   ]
  }
 ],
 "metadata": {
  "interpreter": {
   "hash": "b3ba2566441a7c06988d0923437866b63cedc61552a5af99d1f4fb67d367b25f"
  },
  "kernelspec": {
   "display_name": "Python 3.9.7 ('base')",
   "language": "python",
   "name": "python3"
  },
  "language_info": {
   "codemirror_mode": {
    "name": "ipython",
    "version": 3
   },
   "file_extension": ".py",
   "mimetype": "text/x-python",
   "name": "python",
   "nbconvert_exporter": "python",
   "pygments_lexer": "ipython3",
   "version": "3.9.7"
  },
  "orig_nbformat": 4
 },
 "nbformat": 4,
 "nbformat_minor": 2
}
