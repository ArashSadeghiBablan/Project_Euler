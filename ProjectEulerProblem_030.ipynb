{
 "cells": [
  {
   "cell_type": "code",
   "execution_count": 1,
   "metadata": {},
   "outputs": [
    {
     "name": "stdout",
     "output_type": "stream",
     "text": [
      "4150\n",
      "4151\n",
      "54748\n",
      "92727\n",
      "93084\n",
      "194979\n",
      "the sum of these numbers is: 443839\n"
     ]
    }
   ],
   "source": [
    "#ProjectEulerProblem 030\n",
    "\n",
    "def ntoxpowersum(n,x):\n",
    "    total = 0\n",
    "    while n != 0:\n",
    "        total += ((n % 10) ** x)\n",
    "        n = n // 10\n",
    "    return total\n",
    "\n",
    "def check(n,x):\n",
    "    if ntoxpowersum(n,x) == n:\n",
    "        return True\n",
    "    else:\n",
    "        return False\n",
    "\n",
    "#there is some point where we don't need to check any further\n",
    "def powerchecktill(x):\n",
    "    digits = 2\n",
    "    while (digits * (9 ** x)) > ((10 ** digits)//10):\n",
    "        digits += 1\n",
    "    return 10 ** (digits-1)\n",
    "\n",
    "def finddigitpowers(x):\n",
    "    powerdigits = []\n",
    "    for i in range (2,powerchecktill(x)):\n",
    "        if check(i,x):\n",
    "            powerdigits.append(i)\n",
    "            print(i)\n",
    "    return print('the sum of these numbers is:', sum(powerdigits))\n",
    "    \n",
    "\n",
    "finddigitpowers(5)"
   ]
  }
 ],
 "metadata": {
  "interpreter": {
   "hash": "b3ba2566441a7c06988d0923437866b63cedc61552a5af99d1f4fb67d367b25f"
  },
  "kernelspec": {
   "display_name": "Python 3.9.7 ('base')",
   "language": "python",
   "name": "python3"
  },
  "language_info": {
   "codemirror_mode": {
    "name": "ipython",
    "version": 3
   },
   "file_extension": ".py",
   "mimetype": "text/x-python",
   "name": "python",
   "nbconvert_exporter": "python",
   "pygments_lexer": "ipython3",
   "version": "3.9.7"
  },
  "orig_nbformat": 4
 },
 "nbformat": 4,
 "nbformat_minor": 2
}
