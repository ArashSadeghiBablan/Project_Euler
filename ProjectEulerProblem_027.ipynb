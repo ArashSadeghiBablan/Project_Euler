{
 "cells": [
  {
   "cell_type": "code",
   "execution_count": 1,
   "metadata": {},
   "outputs": [
    {
     "name": "stdout",
     "output_type": "stream",
     "text": [
      "the formula is: n ^ 2 + ( -61 ) n + ( 971 )\n",
      "which gives us the first 70 prime numbers.\n",
      "and the product of a and b is:\n"
     ]
    },
    {
     "data": {
      "text/plain": [
       "-59231"
      ]
     },
     "execution_count": 1,
     "metadata": {},
     "output_type": "execute_result"
    }
   ],
   "source": [
    "\n",
    "#Project Euler Problem 27\n",
    "\n",
    "\n",
    "#First we'll use a function that we've used in problem 2\n",
    "from math import sqrt\n",
    "\n",
    "def isprime(x):\n",
    "    if x < 0:\n",
    "        return False\n",
    "    for j in range (2,int(sqrt(x)+1),1):\n",
    "        if x % j == 0:\n",
    "            return False\n",
    "    return True\n",
    "\n",
    "#formula: n^2 + an + b\n",
    "def count(a,b):\n",
    "    n = 1\n",
    "    while isprime((n**2) + (a*n) + b) == True:\n",
    "        n += 1\n",
    "    return n - 1\n",
    "\n",
    "# check for |a| < x and |b| < y; in our case x, y = 1000, 1000\n",
    "\n",
    "def largest(x,y):\n",
    "    largest = 1\n",
    "    for i in range (-x,x):\n",
    "      for j in range (-y,y):\n",
    "          test = count(i,j)\n",
    "          if test > largest:\n",
    "              largest = test\n",
    "              I = i\n",
    "              J = j\n",
    "    \n",
    "    print ('the formula is: n ^ 2 + (', I , ') n + (', J, ')')\n",
    "    print ('which gives us the first', largest, 'prime numbers.')\n",
    "    print ('and the product of a and b is:')\n",
    "    return I*J\n",
    "\n",
    "largest (1000,1000)"
   ]
  }
 ],
 "metadata": {
  "interpreter": {
   "hash": "b3ba2566441a7c06988d0923437866b63cedc61552a5af99d1f4fb67d367b25f"
  },
  "kernelspec": {
   "display_name": "Python 3.9.7 ('base')",
   "language": "python",
   "name": "python3"
  },
  "language_info": {
   "codemirror_mode": {
    "name": "ipython",
    "version": 3
   },
   "file_extension": ".py",
   "mimetype": "text/x-python",
   "name": "python",
   "nbconvert_exporter": "python",
   "pygments_lexer": "ipython3",
   "version": "3.9.7"
  },
  "orig_nbformat": 4
 },
 "nbformat": 4,
 "nbformat_minor": 2
}
