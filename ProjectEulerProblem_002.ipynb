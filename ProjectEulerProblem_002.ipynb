{
 "cells": [
  {
   "cell_type": "code",
   "execution_count": 1,
   "metadata": {},
   "outputs": [
    {
     "name": "stdout",
     "output_type": "stream",
     "text": [
      "4613732\n"
     ]
    }
   ],
   "source": [
    "#Project Euler Problem 2\n",
    "def feb_under(n):\n",
    "    i,j = 1,2\n",
    "    total = 0\n",
    "    while i < n and j < n:\n",
    "        if i % 2 == 0:\n",
    "            total = total + i\n",
    "        i = i + j\n",
    "        if j % 2 == 0:\n",
    "            total = total + j\n",
    "        j = i + j\n",
    "    if i < n:\n",
    "        total = total + i\n",
    "    return total\n",
    "\n",
    "print (feb_under(4000000))"
   ]
  }
 ],
 "metadata": {
  "interpreter": {
   "hash": "b3ba2566441a7c06988d0923437866b63cedc61552a5af99d1f4fb67d367b25f"
  },
  "kernelspec": {
   "display_name": "Python 3.9.7 ('base')",
   "language": "python",
   "name": "python3"
  },
  "language_info": {
   "codemirror_mode": {
    "name": "ipython",
    "version": 3
   },
   "file_extension": ".py",
   "mimetype": "text/x-python",
   "name": "python",
   "nbconvert_exporter": "python",
   "pygments_lexer": "ipython3",
   "version": "3.9.7"
  },
  "orig_nbformat": 4
 },
 "nbformat": 4,
 "nbformat_minor": 2
}
