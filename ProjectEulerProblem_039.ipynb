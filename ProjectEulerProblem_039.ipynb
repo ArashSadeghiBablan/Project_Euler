{
 "cells": [
  {
   "cell_type": "code",
   "execution_count": 1,
   "metadata": {},
   "outputs": [
    {
     "name": "stdout",
     "output_type": "stream",
     "text": [
      "setting perimeter to 840 will resault 8 solutions,which is the most solutions for perimeters under 1000\n"
     ]
    }
   ],
   "source": [
    "#Project Euler Problem 39\n",
    "\n",
    "from math import sqrt\n",
    "\n",
    "def solutions(p):\n",
    "    sls = []\n",
    "    for a in range (1,p-1):\n",
    "        #calculated by hand:\n",
    "        b = (p**2 - 2*p*a)/(2*p - 2*a)\n",
    "        if b > a and b % 1 == 0:\n",
    "            c = sqrt(a**2 + b**2)\n",
    "            if c % 1 == 0:\n",
    "                sls.append([a,b,c])\n",
    "    return len(sls)\n",
    "\n",
    "def maxSund(U):\n",
    "    most = 1\n",
    "    P = 1\n",
    "    for i in range (3,U):\n",
    "        test = solutions (i)\n",
    "        if test > most:\n",
    "            most = test\n",
    "            P = i\n",
    "    return print ('setting perimeter to', P, 'will resault', most, 'solutions,which is the most solutions for perimeters under', U)\n",
    "\n",
    "maxSund(1000)\n"
   ]
  }
 ],
 "metadata": {
  "interpreter": {
   "hash": "b3ba2566441a7c06988d0923437866b63cedc61552a5af99d1f4fb67d367b25f"
  },
  "kernelspec": {
   "display_name": "Python 3.9.7 ('base')",
   "language": "python",
   "name": "python3"
  },
  "language_info": {
   "codemirror_mode": {
    "name": "ipython",
    "version": 3
   },
   "file_extension": ".py",
   "mimetype": "text/x-python",
   "name": "python",
   "nbconvert_exporter": "python",
   "pygments_lexer": "ipython3",
   "version": "3.9.7"
  },
  "orig_nbformat": 4
 },
 "nbformat": 4,
 "nbformat_minor": 2
}
