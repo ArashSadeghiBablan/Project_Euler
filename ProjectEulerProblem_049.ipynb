{
 "cells": [
  {
   "cell_type": "code",
   "execution_count": 1,
   "metadata": {},
   "outputs": [
    {
     "data": {
      "text/plain": [
       "[148748178147, 296962999629]"
      ]
     },
     "execution_count": 1,
     "metadata": {},
     "output_type": "execute_result"
    }
   ],
   "source": [
    "#Project Euler Problem 49\n",
    "\n",
    "from math import sqrt\n",
    "\n",
    "def isprime(x):\n",
    "    if x == 1:\n",
    "        return False\n",
    "    if x in [2,3,5,7]:\n",
    "        return True\n",
    "    if x % 10 in [0,2,4,5,6,8]:\n",
    "        return False\n",
    "    if x % 3 == 0 or x % 7 == 0:\n",
    "        return False\n",
    "    \n",
    "    for j in range (11,int(sqrt(x)+1),2):\n",
    "        if x % j == 0:\n",
    "            return False\n",
    "    return True\n",
    "\n",
    "def list_primes_between(a,b):\n",
    "    primes = []\n",
    "    for i in range(a, b+1):\n",
    "        if isprime(i):\n",
    "            primes.append(i)\n",
    "    return primes\n",
    "\n",
    "\n",
    "def is_permutation(x,y):\n",
    "    if len(str(x)) != len(str(y)):\n",
    "        return False\n",
    "    for i in str(x):\n",
    "        if i not in str(y):\n",
    "            return False\n",
    "    for i in str(y):\n",
    "        if i not in str(x):\n",
    "            return False\n",
    "    return True\n",
    "\n",
    "def solve_digits(n):\n",
    "    triples = []\n",
    "    primes = list_primes_between(10**n, 10**(n+1))\n",
    "    len_primes = len(primes)\n",
    "    for i in range (len_primes):\n",
    "        for j in range (i+1, len_primes):\n",
    "            a = primes[i]\n",
    "            b = primes[j]\n",
    "            if is_permutation(a,b):\n",
    "                c = b + (b-a)\n",
    "                if is_permutation(a,c) and is_permutation(b,c) and c in primes:\n",
    "                    triple = (a,b,c)\n",
    "                    triples.append(triple)\n",
    "    return [int(''.join(map(str, triple))) for triple in triples]\n",
    "\n",
    "solve_digits(3)\n",
    "\n",
    "\n"
   ]
  }
 ],
 "metadata": {
  "kernelspec": {
   "display_name": "base",
   "language": "python",
   "name": "python3"
  },
  "language_info": {
   "codemirror_mode": {
    "name": "ipython",
    "version": 3
   },
   "file_extension": ".py",
   "mimetype": "text/x-python",
   "name": "python",
   "nbconvert_exporter": "python",
   "pygments_lexer": "ipython3",
   "version": "3.9.13"
  },
  "orig_nbformat": 4,
  "vscode": {
   "interpreter": {
    "hash": "ad2bdc8ecc057115af97d19610ffacc2b4e99fae6737bb82f5d7fb13d2f2c186"
   }
  }
 },
 "nbformat": 4,
 "nbformat_minor": 2
}
