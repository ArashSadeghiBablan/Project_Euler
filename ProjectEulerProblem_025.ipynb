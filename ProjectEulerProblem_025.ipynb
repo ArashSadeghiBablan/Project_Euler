{
 "cells": [
  {
   "cell_type": "code",
   "execution_count": 1,
   "metadata": {},
   "outputs": [
    {
     "data": {
      "text/plain": [
       "4782"
      ]
     },
     "execution_count": 1,
     "metadata": {},
     "output_type": "execute_result"
    }
   ],
   "source": [
    "#Project Euler Problem 25\n",
    "\n",
    "def Fib(n):\n",
    "    i = 1\n",
    "    j = 2\n",
    "    z = 0\n",
    "    c = 2\n",
    "    while c < n:\n",
    "        z = j\n",
    "        j = i + j\n",
    "        i = z\n",
    "        c += 1\n",
    "    return j\n",
    "\n",
    "def digit (n):\n",
    "    c = 0\n",
    "    while n != 0:\n",
    "        n = n // 10\n",
    "        c += 1\n",
    "    return c\n",
    "# n = 1000\n",
    "def solve(n):\n",
    "    x = 3\n",
    "    while digit(Fib(x)) < n:\n",
    "        x += 1\n",
    "    return x + 1\n",
    "\n",
    "solve (1000)"
   ]
  }
 ],
 "metadata": {
  "interpreter": {
   "hash": "b3ba2566441a7c06988d0923437866b63cedc61552a5af99d1f4fb67d367b25f"
  },
  "kernelspec": {
   "display_name": "Python 3.9.7 ('base')",
   "language": "python",
   "name": "python3"
  },
  "language_info": {
   "codemirror_mode": {
    "name": "ipython",
    "version": 3
   },
   "file_extension": ".py",
   "mimetype": "text/x-python",
   "name": "python",
   "nbconvert_exporter": "python",
   "pygments_lexer": "ipython3",
   "version": "3.9.7"
  },
  "orig_nbformat": 4
 },
 "nbformat": 4,
 "nbformat_minor": 2
}
