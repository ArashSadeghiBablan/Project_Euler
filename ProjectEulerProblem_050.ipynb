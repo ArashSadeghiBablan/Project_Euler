{
 "cells": [
  {
   "cell_type": "code",
   "execution_count": 1,
   "metadata": {},
   "outputs": [
    {
     "data": {
      "text/plain": [
       "(997651, 540)"
      ]
     },
     "execution_count": 1,
     "metadata": {},
     "output_type": "execute_result"
    }
   ],
   "source": [
    "#Project Euler Problem 50\n",
    "\n",
    "from math import sqrt\n",
    "\n",
    "def isprime(x):\n",
    "    if x == 1:\n",
    "        return False\n",
    "    if x == 2:\n",
    "        return True\n",
    "    if x % 2 == 0:\n",
    "        return False\n",
    "    for j in range (3,int(sqrt(x)+1),2):\n",
    "        if x % j == 0:\n",
    "            return False\n",
    "    return True\n",
    "\n",
    "def PrimesBoolian(n):\n",
    "    primes = [True for i in range(n+1)]\n",
    "    primes[0] = False\n",
    "    primes[1] = False\n",
    "    for i in range(2,n+1):\n",
    "        if primes[i]:\n",
    "            if isprime(i):\n",
    "                j = 2\n",
    "                while (i*j) <= n:\n",
    "                    primes[(i*j)] = False\n",
    "                    j += 1\n",
    "    return primes\n",
    "\n",
    "def PrimesListUnder(n):\n",
    "    PrimesBool = PrimesBoolian(n)\n",
    "    PrimesList = []\n",
    "    for i in range (n):\n",
    "        if PrimesBool[i] == True:\n",
    "            PrimesList.append(i)\n",
    "    return PrimesList\n",
    "\n",
    "def LCPSU(n):\n",
    "    PrimesList = PrimesListUnder(n)\n",
    "    LargestConsecutive = 2\n",
    "    StartingPointIndex = 0\n",
    "    AddingIndex = 2\n",
    "    for StartingPointIndex in range(0,len(PrimesList)):\n",
    "        total = 0\n",
    "        while total < n and AddingIndex < len(PrimesList):\n",
    "            total = sum(PrimesList[StartingPointIndex:StartingPointIndex+AddingIndex])\n",
    "            if AddingIndex - StartingPointIndex > LargestConsecutive and isprime(total) and total < n:\n",
    "                LargestConsecutive = AddingIndex - StartingPointIndex\n",
    "                ThePrime = total\n",
    "            AddingIndex += 1\n",
    "        AddingIndex = 2\n",
    "    return ThePrime, LargestConsecutive\n",
    "\n",
    "LCPSU(1000000)\n"
   ]
  }
 ],
 "metadata": {
  "interpreter": {
   "hash": "b3ba2566441a7c06988d0923437866b63cedc61552a5af99d1f4fb67d367b25f"
  },
  "kernelspec": {
   "display_name": "Python 3.9.7 ('base')",
   "language": "python",
   "name": "python3"
  },
  "language_info": {
   "codemirror_mode": {
    "name": "ipython",
    "version": 3
   },
   "file_extension": ".py",
   "mimetype": "text/x-python",
   "name": "python",
   "nbconvert_exporter": "python",
   "pygments_lexer": "ipython3",
   "version": "3.9.7"
  },
  "orig_nbformat": 4
 },
 "nbformat": 4,
 "nbformat_minor": 2
}
