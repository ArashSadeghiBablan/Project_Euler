{
 "cells": [
  {
   "cell_type": "code",
   "execution_count": 1,
   "metadata": {},
   "outputs": [
    {
     "data": {
      "text/plain": [
       "972"
      ]
     },
     "execution_count": 1,
     "metadata": {},
     "output_type": "execute_result"
    }
   ],
   "source": [
    "#Project Euler Problem 56\n",
    "def SumDigits(number):\n",
    "    total = 0\n",
    "    for i in (str(number)):\n",
    "        total += int(i)\n",
    "    return total\n",
    "\n",
    "def solve56():\n",
    "    largest = 0\n",
    "    for i in range (100):\n",
    "        for j in range(100):\n",
    "            DigitalSum = SumDigits(i**j)\n",
    "            if DigitalSum > largest:\n",
    "                largest = DigitalSum\n",
    "    return largest\n",
    "\n",
    "solve56()"
   ]
  }
 ],
 "metadata": {
  "kernelspec": {
   "display_name": "Python 3.9.7 ('base')",
   "language": "python",
   "name": "python3"
  },
  "language_info": {
   "codemirror_mode": {
    "name": "ipython",
    "version": 3
   },
   "file_extension": ".py",
   "mimetype": "text/x-python",
   "name": "python",
   "nbconvert_exporter": "python",
   "pygments_lexer": "ipython3",
   "version": "3.9.7"
  },
  "orig_nbformat": 4,
  "vscode": {
   "interpreter": {
    "hash": "ad2bdc8ecc057115af97d19610ffacc2b4e99fae6737bb82f5d7fb13d2f2c186"
   }
  }
 },
 "nbformat": 4,
 "nbformat_minor": 2
}
