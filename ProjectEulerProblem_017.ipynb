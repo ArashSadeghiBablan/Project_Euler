{
 "cells": [
  {
   "cell_type": "code",
   "execution_count": 1,
   "metadata": {},
   "outputs": [
    {
     "data": {
      "text/plain": [
       "21124"
      ]
     },
     "execution_count": 1,
     "metadata": {},
     "output_type": "execute_result"
    }
   ],
   "source": [
    "#Project Euler Problem 17\n",
    "\n",
    "#\n",
    "\n",
    "initDict1 = {1: \"One\", 2: \"Two\", 3: \"Three\", 4: \"Four\", 5: \"Five\", 6: \"Six\", 7: \"Seven\", 8: \"Eight\", 9: \"Nine\",\n",
    "             11: \"Eleven\", 12: \"Twelve\", 13: \"Thirteen\", 14: \"Fourteen\", 15: \"Fifteen\", 16: \"Sixteen\", 17: \"Seventeen\",\n",
    "             18: \"Eighteen\", 19: \"Nineteen\",\n",
    "             10: \"Ten\", 20: \"Twenty\", 30: \"Thirty\", 40: \"Forty\", 50: \"Fifty\", 60: \"Sixty\", 70: \"Seventy\", 80: \"Eighty\",\n",
    "             90: \"Ninety\", 100: \"Hundred\", 1000: \"Thousand\"}\n",
    "\n",
    "#source https://stackoverflow.com/questions/52225951/project-euler-problem-17-python-i-am-getting-wrong-answer-no-idea-why#:~:text=%22Problem%2017%20%3A%20If%20the%20numbers,not%20count%20spaces%20or%20hyphens.\n",
    "\n",
    "def letund100(n):\n",
    "    # n < 100\n",
    "    let = str()\n",
    "    if n <= 20 or n % 10 == 0:\n",
    "        let = initDict1[n]\n",
    "    else:\n",
    "        let = initDict1[((n//10) % 10)*10] + initDict1[n%10]\n",
    "    return let\n",
    "\n",
    "def letund1000(n):\n",
    "    let = str()\n",
    "    if n < 100:\n",
    "        return letund100(n)\n",
    "    elif n == 1000:\n",
    "        let = 'OneThousand'\n",
    "    elif n % 100 == 0:\n",
    "        let = initDict1[n//100] + initDict1[100]\n",
    "    else:\n",
    "        let = initDict1[n//100] + initDict1[100] + 'And' + letund100(n%100)\n",
    "    \n",
    "    return let\n",
    "\n",
    "def sumLs(n):\n",
    "    lets = str()\n",
    "    for i in range (1,n+1):\n",
    "        lets = lets + letund1000(i)\n",
    "    return len(lets)\n",
    "\n",
    "\n",
    "sumLs(1000)"
   ]
  }
 ],
 "metadata": {
  "interpreter": {
   "hash": "b3ba2566441a7c06988d0923437866b63cedc61552a5af99d1f4fb67d367b25f"
  },
  "kernelspec": {
   "display_name": "Python 3.9.7 ('base')",
   "language": "python",
   "name": "python3"
  },
  "language_info": {
   "codemirror_mode": {
    "name": "ipython",
    "version": 3
   },
   "file_extension": ".py",
   "mimetype": "text/x-python",
   "name": "python",
   "nbconvert_exporter": "python",
   "pygments_lexer": "ipython3",
   "version": "3.9.7"
  },
  "orig_nbformat": 4
 },
 "nbformat": 4,
 "nbformat_minor": 2
}
