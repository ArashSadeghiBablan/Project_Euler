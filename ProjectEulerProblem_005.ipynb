{
 "cells": [
  {
   "cell_type": "code",
   "execution_count": 1,
   "metadata": {},
   "outputs": [
    {
     "data": {
      "text/plain": [
       "232792560"
      ]
     },
     "execution_count": 1,
     "metadata": {},
     "output_type": "execute_result"
    }
   ],
   "source": [
    "#Project Euler Problem 5\n",
    "#First we'll use a function that we've used in problem 2\n",
    "from math import sqrt\n",
    "def isprime(x):\n",
    "    for j in range (2,int(sqrt(x)+1),1):\n",
    "        if x % j == 0:\n",
    "            return False\n",
    "    return True\n",
    "\n",
    "#A function that makes a list of prime numbers less or equal to a certain number\n",
    "def primeslist(y):\n",
    "    primes = []\n",
    "    for i in range (2,y+1):\n",
    "\n",
    "        if isprime(i):\n",
    "            primes.append(i)\n",
    "    return primes\n",
    "\n",
    "#A function that calculates what the question asks\n",
    "def smultiples(z):\n",
    "    mult = 1\n",
    "    for i in primeslist(z):\n",
    "        mult = mult * i\n",
    "    test = mult\n",
    "    T = True\n",
    "    while T:\n",
    "        a = 1\n",
    "        while a < z:\n",
    "            a += 1\n",
    "            if test % a != 0:\n",
    "                test = test + mult\n",
    "                a = 1\n",
    "            T = False\n",
    "    return test\n",
    "            \n",
    "\n",
    "\n",
    "smultiples(20)"
   ]
  }
 ],
 "metadata": {
  "interpreter": {
   "hash": "b3ba2566441a7c06988d0923437866b63cedc61552a5af99d1f4fb67d367b25f"
  },
  "kernelspec": {
   "display_name": "Python 3.9.7 ('base')",
   "language": "python",
   "name": "python3"
  },
  "language_info": {
   "codemirror_mode": {
    "name": "ipython",
    "version": 3
   },
   "file_extension": ".py",
   "mimetype": "text/x-python",
   "name": "python",
   "nbconvert_exporter": "python",
   "pygments_lexer": "ipython3",
   "version": "3.9.7"
  },
  "orig_nbformat": 4
 },
 "nbformat": 4,
 "nbformat_minor": 2
}
